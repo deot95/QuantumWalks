{
 "cells": [
  {
   "cell_type": "code",
   "execution_count": 1,
   "metadata": {
    "collapsed": true,
    "nbpresent": {
     "id": "328e798e-d2e5-4211-915b-3c03561c0293"
    }
   },
   "outputs": [],
   "source": [
    "import qutip as qt\n",
    "import numpy as np\n",
    "from matplotlib import pylab as plt\n",
    "from matplotlib import rc\n",
    "rc('font',**{'family':'sans-serif','sans-serif':['Helvetica']})\n",
    "rc('text', usetex=True)\n",
    "import scipy as scp\n",
    "from scipy import stats\n",
    "%matplotlib inline"
   ]
  },
  {
   "cell_type": "markdown",
   "metadata": {},
   "source": [
    "## Data Loading"
   ]
  },
  {
   "cell_type": "code",
   "execution_count": 2,
   "metadata": {
    "collapsed": false
   },
   "outputs": [],
   "source": [
    "## Loading of previously saved data\n",
    "N = 1021\n",
    "steps = 500\n",
    "data = np.load('data.npz')\n",
    "qresults = data['qresults']\n",
    "cresults = data['cresults']\n",
    "quantum = data['quantumP500']\n",
    "classic = data['classicalP500']\n",
    "xq = data['xq']\n",
    "x = data['x']"
   ]
  },
  {
   "cell_type": "markdown",
   "metadata": {
    "nbpresent": {
     "id": "b5c08117-9351-483a-b701-747c5a3067ec"
    }
   },
   "source": [
    "## Setup"
   ]
  },
  {
   "cell_type": "code",
   "execution_count": 13,
   "metadata": {
    "collapsed": false,
    "nbpresent": {
     "id": "fc0a22c6-b9a5-4dff-8b88-9e713bf44afd"
    }
   },
   "outputs": [],
   "source": [
    "## Declaration of unitary evolution operators\n",
    "N = 1021\n",
    "## Initial Quantum State\n",
    "psisim = (qt.tensor(qt.basis(2,1),qt.basis(N,N/2-3)) + 1j*qt.tensor(qt.basis(2,0),qt.basis(N,N/2-3))).unit()\n",
    "## Hadamard Operator\n",
    "H = qt.hadamard_transform(N=1)\n",
    "I = qt.qeye(N=N)\n",
    "## Coin Operator\n",
    "C = qt.tensor(H,I)\n",
    "## Conditional Displacement Operator\n",
    "S0 = qt.Qobj(np.zeros((N,N)))\n",
    "S1 = qt.Qobj(np.zeros((N,N)))\n",
    "for i in range(N-1):\n",
    "    S0+= qt.basis(N,i+1)*qt.basis(N,i).dag()\n",
    "Sd  = qt.tensor(qt.basis(2,1)*qt.basis(2,1).dag(),S0)\n",
    "for i in range(1,N):\n",
    "    S1+= qt.basis(N,i-1)*qt.basis(N,i).dag()\n",
    "Si  = qt.tensor(qt.basis(2,0)*qt.basis(2,0).dag(),S1)\n",
    "S = Sd + Si"
   ]
  },
  {
   "cell_type": "markdown",
   "metadata": {
    "nbpresent": {
     "id": "8850fae6-990f-418e-8cae-558d7761a48b"
    }
   },
   "source": [
    "## Classical - Quantum Probability Comparison\n",
    "### Steps = 500"
   ]
  },
  {
   "cell_type": "code",
   "execution_count": 14,
   "metadata": {
    "collapsed": false,
    "nbpresent": {
     "id": "cde90ba2-4d52-4d44-9060-440b7a536e78"
    }
   },
   "outputs": [],
   "source": [
    "## Quantum Walk Routine Defintion\n",
    "def qw(coin,shift,psi_ini,steps):\n",
    "    U = (S*C)**steps\n",
    "    quantum = (((U*psi_ini).unit()).ptrace(1)).diag()\n",
    "    xq = np.arange(-1*(len(quantum)/2),len(quantum)/2+1)\n",
    "    return (xq,quantum)"
   ]
  },
  {
   "cell_type": "code",
   "execution_count": 15,
   "metadata": {
    "collapsed": true,
    "nbpresent": {
     "id": "6e5c4487-5d8f-4b6e-a876-172504f76f0f"
    }
   },
   "outputs": [],
   "source": [
    "## \"Unbiased\" Random Walk\n",
    "def ucrw(steps):\n",
    "    '''\n",
    "    Unbiased classical random walk. p=q=1/2\n",
    "    '''\n",
    "    x = np.arange(-(steps) , steps+1)\n",
    "    classic = np.zeros(2*steps+1)+(np.mod(x+steps,2)==0)*(1./(2**steps))*scp.special.binom(steps,(x+steps)/2.)\n",
    "    return (x,classic)"
   ]
  },
  {
   "cell_type": "code",
   "execution_count": 16,
   "metadata": {
    "collapsed": true
   },
   "outputs": [],
   "source": [
    "steps = 500"
   ]
  },
  {
   "cell_type": "code",
   "execution_count": 17,
   "metadata": {
    "collapsed": false
   },
   "outputs": [],
   "source": [
    "xq,quantum=qw(C,S,psisim,steps)"
   ]
  },
  {
   "cell_type": "code",
   "execution_count": 18,
   "metadata": {
    "collapsed": false
   },
   "outputs": [],
   "source": [
    "x,classic=ucrw(steps)"
   ]
  },
  {
   "cell_type": "code",
   "execution_count": 20,
   "metadata": {
    "collapsed": false
   },
   "outputs": [
    {
     "data": {
      "image/png": "[encoded data removed]",
      "text/plain": [
       "<matplotlib.figure.Figure at 0x7f7175202290>"
      ]
     },
     "metadata": {},
     "output_type": "display_data"
    }
   ],
   "source": [
    "plt.plot(x,classic,label=\"Classical Random Walk\",alpha=0.85)\n",
    "plt.plot(xq,quantum,label=\"Quantum Walk\",alpha=0.85)\n",
    "plt.legend(fontsize=10)\n",
    "plt.xlim(-steps,steps)\n",
    "plt.xlabel(r\"\\textbf{Distance[arbitrary units]}\")\n",
    "plt.ylabel(r\"\\textbf{Probability}\")\n",
    "plt.title(r\"\\textbf{Probability of ending up in site i after N=500 steps}\")\n",
    "plt.savefig(\"probability.png\")"
   ]
  },
  {
   "cell_type": "markdown",
   "metadata": {
    "collapsed": true,
    "nbpresent": {
     "id": "f03ca655-3425-4649-9a93-e90711f778e3"
    }
   },
   "source": [
    "## Variance Behavior"
   ]
  },
  {
   "cell_type": "code",
   "execution_count": 21,
   "metadata": {
    "collapsed": false,
    "nbpresent": {
     "id": "5f0ab4d9-c958-4a01-bc4b-130b71dfb2ba"
    }
   },
   "outputs": [],
   "source": [
    "## Simulating for different steps number\n",
    "qresults = []\n",
    "cresults = []\n",
    "for i in range(25,steps+1,25):\n",
    "    cresults.append(ucrw(i))\n",
    "    qresults.append(qw(C,S,psisim,steps=i))"
   ]
  },
  {
   "cell_type": "code",
   "execution_count": 4,
   "metadata": {
    "collapsed": false
   },
   "outputs": [],
   "source": [
    "## Saved simulated data\n",
    "np.savez('data', x=x,xq=xq,classicalP500=classic, quantumP500=quantum, qresults =  qresults, cresults =cresults)"
   ]
  },
  {
   "cell_type": "code",
   "execution_count": 5,
   "metadata": {
    "collapsed": false
   },
   "outputs": [],
   "source": [
    "## Finding Mean and Variances for both type of walks\n",
    "means_q = np.asarray([0 if np.isclose(np.sum(pair[0]*pair[1]),0) \n",
    "                      else np.sum(pair[0]*pair[1])  for pair in qresults])\n",
    "means_c = np.asarray([0 if np.isclose(np.sum(pair[0]*pair[1]),0) \n",
    "           else np.sum(pair[0]*pair[1])  for pair in cresults])\n",
    "expx2_q = np.asarray([0 if np.isclose(np.sum((pair[0]**2)*pair[1]),0) \n",
    "                      else np.sum((pair[0]**2)*pair[1])for pair in qresults])\n",
    "expx2_c = np.asarray([0 if np.isclose(np.sum((pair[0]**2)*pair[1]),0) \n",
    "           else np.sum((pair[0]**2)*pair[1])for pair in cresults])\n",
    "var_q = expx2_q - means_q**2\n",
    "var_c = expx2_c - means_c**2"
   ]
  },
  {
   "cell_type": "code",
   "execution_count": 6,
   "metadata": {
    "collapsed": false
   },
   "outputs": [],
   "source": [
    "## Finding Regression Coefficients\n",
    "xstep = np.arange(25,steps+1,25)\n",
    "xreg = np.arange(10,10**3)\n",
    "m_q, int_q, r_q, p_q, std_error_q = stats.linregress(np.log(xstep), np.log(var_q))\n",
    "m_c, int_c, r_c, p_c, std_error_c = stats.linregress(np.log(xstep), np.log(var_c))\n",
    "sigma_q = np.exp(m_q*np.log(xreg)+int_q)\n",
    "sigma_c = np.exp(m_c*np.log(xreg)+int_c)"
   ]
  },
  {
   "cell_type": "code",
   "execution_count": 7,
   "metadata": {
    "collapsed": false
   },
   "outputs": [
    {
     "data": {
      "image/png": "[encoded data removed]",
      "text/plain": [
       "<matplotlib.figure.Figure at 0x7f191c472790>"
      ]
     },
     "metadata": {},
     "output_type": "display_data"
    }
   ],
   "source": [
    "## Log-Log Plots\n",
    "plt.loglog(xstep,var_q,'o',basex=10,ms=5,label=r\"\\(\\log(\\sigma^2)={0:.2f}\\log N{1:.2f}\\ (Quantum)\\)\".format(m_q,int_q))\n",
    "plt.loglog(xstep,var_c,'o',basex=10,ms=5,label=r\"\\(\\log(\\sigma^2)={0:.2f}\\log N+{1:.2f}\\ (Classical)\\)\".format(m_c,int_c))\n",
    "plt.loglog(xreg,sigma_q,'-',color='b')\n",
    "plt.loglog(xreg,sigma_c,'-',color='g')\n",
    "plt.legend(loc='best')\n",
    "plt.ylabel(r\"\\(\\mathbf{\\log_{10}(\\sigma^2)}\\)\")\n",
    "plt.xlabel(r\"\\(\\mathbf{\\log_{10}(N)}\\)\")\n",
    "plt.title(r\"\\textbf{Variance as a function of the number of steps}\")\n",
    "plt.savefig(\"variances.png\")"
   ]
  }
 ],
 "metadata": {
  "anaconda-cloud": {},
  "kernelspec": {
   "display_name": "Python [conda root]",
   "language": "python",
   "name": "conda-root-py"
  },
  "language_info": {
   "codemirror_mode": {
    "name": "ipython",
    "version": 2
   },
   "file_extension": ".py",
   "mimetype": "text/x-python",
   "name": "python",
   "nbconvert_exporter": "python",
   "pygments_lexer": "ipython2",
   "version": "2.7.12"
  },
  "nbpresent": {
   "slides": {},
   "themes": {
    "default": "ee0243e2-7408-4169-8798-f06ccdb1e16f",
    "theme": {}
   }
  }
 },
 "nbformat": 4,
 "nbformat_minor": 1
}
